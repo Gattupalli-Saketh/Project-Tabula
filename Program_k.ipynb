{
 "cells": [
  {
   "cell_type": "code",
   "execution_count": 7,
   "metadata": {},
   "outputs": [
    {
     "name": "stdout",
     "output_type": "stream",
     "text": [
      "^C\n",
      "Note: you may need to restart the kernel to use updated packages.\n"
     ]
    },
    {
     "name": "stdout",
     "output_type": "stream",
     "text": [
      "Defaulting to user installation because normal site-packages is not writeable\n",
      "Requirement already satisfied: openpyxl in c:\\users\\gattupalli saketh\\appdata\\roaming\\python\\python311\\site-packages (3.1.5)\n",
      "Requirement already satisfied: et-xmlfile in c:\\users\\gattupalli saketh\\appdata\\roaming\\python\\python311\\site-packages (from openpyxl) (2.0.0)\n"
     ]
    }
   ],
   "source": [
    "\n",
    "pip install openpyxl"
   ]
  },
  {
   "cell_type": "code",
   "execution_count": 12,
   "metadata": {},
   "outputs": [],
   "source": [
    "def deduplicate_columns(columns):\n",
    "    seen = {}\n",
    "    new_columns = []\n",
    "    for col in columns:\n",
    "        if col in seen:\n",
    "            seen[col] += 1\n",
    "            new_columns.append(f\"{col}_{seen[col]}\")\n",
    "        else:\n",
    "            seen[col] = 0\n",
    "            new_columns.append(col)\n",
    "    return new_columns\n"
   ]
  },
  {
   "cell_type": "code",
   "execution_count": 14,
   "metadata": {},
   "outputs": [],
   "source": [
    "#Program to conver PDF files to Excel\n",
    "import pandas as pd\n",
    "import pdfplumber \n",
    "\n",
    "def PDF_XL(PDF_file,XL_file):\n",
    "    all_tables =[]\n",
    "\n",
    "    with pdfplumber.open(PDF_file) as pdf:\n",
    "        \n",
    "        for page in pdf.pages:\n",
    "            tables = page.extract_tables()\n",
    "            for table in tables:\n",
    "                if table:\n",
    "                    df = pd.DataFrame(table[1:], columns=table[0])\n",
    "                    df.columns = deduplicate_columns(df.columns)\n",
    "                    all_tables.append(df)\n",
    "\n",
    "        if all_tables:\n",
    "            combined_table = pd.concat(all_tables, ignore_index=True)\n",
    "            \n",
    "        else:\n",
    "            combined_table = pd.DataFrame([[\"No tables found\"]])\n",
    "        \n",
    "        combined_table.dropna(how='all', inplace=True)\n",
    "        combined_table.dropna(axis=1, how='all', inplace=True)  # Drop rows where all elements are NaN\n",
    "      \n",
    "\n",
    "        with pd.ExcelWriter(XL_file, engine=\"openpyxl\") as writer:\n",
    "            combined_table.to_excel(writer, sheet_name='Combined', index=False)\n",
    "        \n",
    "            \n",
    "#PDF_XL('C:\\Users\\Gattupalli Saketh\\OneDrive\\Desktop\\Project_25\\Universities_shortlists.pdf','Universites_xl.xlsx')\n",
    "PDF_XL(r'C:\\Users\\Gattupalli Saketh\\OneDrive\\Desktop\\Project_25\\Universities_shortlists.pdf', 'Universites_xl.xlsx')\n",
    "\n"
   ]
  },
  {
   "cell_type": "code",
   "execution_count": 1,
   "metadata": {},
   "outputs": [
    {
     "name": "stdout",
     "output_type": "stream",
     "text": [
      "File not found: Universities_shortlist.pdf\n"
     ]
    }
   ],
   "source": [
    "import os\n",
    "\n",
    "PDF_file = 'Universities_shortlist.pdf'\n",
    "if os.path.exists(PDF_file):\n",
    "    PDF_XL(PDF_file, 'Universities_xl.xlsx')\n",
    "else:\n",
    "    print(f\"File not found: {PDF_file}\")\n"
   ]
  }
 ],
 "metadata": {
  "kernelspec": {
   "display_name": "Python 3",
   "language": "python",
   "name": "python3"
  },
  "language_info": {
   "codemirror_mode": {
    "name": "ipython",
    "version": 3
   },
   "file_extension": ".py",
   "mimetype": "text/x-python",
   "name": "python",
   "nbconvert_exporter": "python",
   "pygments_lexer": "ipython3",
   "version": "3.11.2"
  }
 },
 "nbformat": 4,
 "nbformat_minor": 2
}
